{
 "cells": [
  {
   "cell_type": "markdown",
   "source": [
    "## Zadanie biznesowe\n",
    "Stworzenie algorytmu przewidującego rezultat zakończenia obecnej sesji użytkownika, który przyjmuje postać 0 albo 1, gdzie 0 oznacza brak zakupu, a 1 oznacza zakup. W takiej sytuacji konsultanci szybciej mogliby zareagować i rozwiązać potencjalny problem klienta."
   ],
   "metadata": {
    "collapsed": false,
    "pycharm": {
     "name": "#%% md\n"
    }
   }
  },
  {
   "cell_type": "markdown",
   "source": [
    "## Obecna sytuacja\n",
    "Jesteśmy w stanie analizować jedynie logi. Widzimy, że klienci bardzo często nie są pewni co do zakupu. Jest to potencjalna strata klienta dla firmy. Konsultanci nie są w stanie pomóc i doradzić najbardziej perspektywicznym klientom."
   ],
   "metadata": {
    "collapsed": false,
    "pycharm": {
     "name": "#%% md\n"
    }
   }
  },
  {
   "cell_type": "markdown",
   "source": [
    "## Biznesowe kryterium sukcesu\n",
    "Dane przedsiębiorstwo ma ograniczoną ilość konsultantów. Chcemy zmaksymalizować zysk, który są wstanie wygenerować. W związku z tym model powinien dobrze przewidywać sesje, które zakończą się zakupem, aby nasi konsultanci mogli zająć się najbardziej obiecującymi sesjami klientów. Mogą wówczas oferować klientom bardziej korzystne zniżki, bądź rekomendacje, przekonujące klienta do zakupu. Zwiększą tym samym zyski firmy, co jest naszym celem. Do tej pory konsultanci bazowali na długości sesji klientów."
   ],
   "metadata": {
    "collapsed": false,
    "pycharm": {
     "name": "#%% md\n"
    }
   }
  },
  {
   "cell_type": "markdown",
   "source": [
    "## Zadanie modelowania\n",
    "Przygotowanie klasyfikatora binarnego wskazującego 1 dla sesji mającej zakończyć się zakupem lub 0 w przeciwnym wypadku, na podstawie logów z sesji klientów sklepu.\n",
    "\n",
    "##### Wejście\n",
    "Sekwencja logów z sesji klienta\n",
    "\n",
    "\n",
    "##### Wyjście\n",
    "1 lub 0\n",
    "\n",
    "1 - sesja zakończy się zakupem\n",
    "0 - sesja nie zakończy się zakupem"
   ],
   "metadata": {
    "collapsed": false,
    "pycharm": {
     "name": "#%% md\n"
    }
   }
  },
  {
   "cell_type": "markdown",
   "source": [
    "### Dane do modelowania\n",
    "+ Logi z informacjami o tym jakie przedmioty były oglądane i kupowane przez klientów w sesji oraz posiadana zniżka\n",
    "+ Katalog z dostępnymi w ofercie przedmiotami i ich cenami\n",
    "+ Dane klientów sklepu zawierające ich imię oraz nazwisko"
   ],
   "metadata": {
    "collapsed": false,
    "pycharm": {
     "name": "#%% md\n"
    }
   }
  },
  {
   "cell_type": "markdown",
   "source": [
    "### Analityczne kryterium sukcesu\n",
    "Przewidywania naszego modelu muszą być lepsze od prostego modelu, który przewiduje czy sesja zakończy się zakupem na podstawie czasu jej trwania.\n",
    "\n",
    "Zakładając, iż taki prosty model dla sesji trwającej dłużej niż średni czas spędzany na sesję, uzyskany bazując na dostępnych danych, przewiduje pozytywne jej zakończenie i oznaczając stosunek poprawnie przewidzonych w ten sposób sesji do wszystkich sesji zakończonych zakupem jako $\\alpha$\n",
    "\n",
    "Skuteczność naszego modelu powinna przekraczać ten współczynnik\n",
    "\n",
    "\\begin{align*}\n",
    "$\\frac{# poprawne \\quad przewidzenie \\quad zakupu}{# wszystkie \\quad sesje \\quad zakończone \\quad zakupem} \\ge \\alpha$\n",
    "\\end{align*}"
   ],
   "metadata": {
    "collapsed": false,
    "pycharm": {
     "name": "#%% md\n"
    }
   }
  },
  {
   "cell_type": "markdown",
   "source": [
    "# Wstepna analiza danych"
   ],
   "metadata": {
    "collapsed": false,
    "pycharm": {
     "name": "#%% md\n"
    }
   }
  },
  {
   "cell_type": "markdown",
   "source": [
    "### Otrzymaliśmy logi dotyczące:\n",
    "- produktów\n",
    "- sesji użytkowników\n",
    "- dostaw\n",
    "- użytkowników\n",
    "\n",
    "Z tabeli dostaw nie będziemy korzystać. Nie ma w niej informacji pomocnych do rozwiązania naszego zadania."
   ],
   "metadata": {
    "collapsed": false,
    "pycharm": {
     "name": "#%% md\n"
    }
   }
  },
  {
   "cell_type": "code",
   "execution_count": 880,
   "outputs": [],
   "source": [
    "import pandas as  pd\n",
    "import re\n",
    "import ast"
   ],
   "metadata": {
    "collapsed": false,
    "pycharm": {
     "name": "#%%\n"
    }
   }
  },
  {
   "cell_type": "code",
   "execution_count": 881,
   "outputs": [],
   "source": [
    "def get_data(path):\n",
    "    with open(path, 'r') as f:\n",
    "        lines = f.readlines()\n",
    "    json_formatted = '['\n",
    "    for line in lines:\n",
    "        json_formatted += line + ','\n",
    "    json_formatted = json_formatted[:-1] + ']'\n",
    "    json_formatted = re.sub('null', 'None', json_formatted)\n",
    "    return ast.literal_eval(json_formatted)"
   ],
   "metadata": {
    "collapsed": false,
    "pycharm": {
     "name": "#%%\n"
    }
   }
  },
  {
   "cell_type": "code",
   "execution_count": 882,
   "outputs": [],
   "source": [
    "df_products = pd.DataFrame(get_data('products.jsonl'))\n",
    "df_sessions = pd.DataFrame(get_data('sessions.jsonl'))\n",
    "df_users = pd.DataFrame(get_data('users.jsonl'))\n",
    "\n",
    "df_sessions['timestamp'] = pd.to_datetime(df_sessions['timestamp'])\n",
    "\n",
    "df_list = [df_products, df_sessions, df_users]"
   ],
   "metadata": {
    "collapsed": false,
    "pycharm": {
     "name": "#%%\n"
    }
   }
  },
  {
   "cell_type": "code",
   "execution_count": 883,
   "outputs": [],
   "source": [
    "def look_for_nulls(df, column):\n",
    "    not_nulls = df[df[column].notna()].shape[0]\n",
    "    nulls = df[df[column].isna()].shape[0]\n",
    "    return not_nulls, nulls\n",
    "\n",
    "def get_unique_values(df, column):\n",
    "    return df[column].unique()"
   ],
   "metadata": {
    "collapsed": false,
    "pycharm": {
     "name": "#%%\n"
    }
   }
  },
  {
   "cell_type": "markdown",
   "source": [
    "## Sprawdzanie poprawności i występowania braków w danych"
   ],
   "metadata": {
    "collapsed": false,
    "pycharm": {
     "name": "#%% md\n"
    }
   }
  },
  {
   "cell_type": "code",
   "execution_count": 884,
   "outputs": [
    {
     "name": "stdout",
     "output_type": "stream",
     "text": [
      "Nulls in column product_id: 0\n",
      "Not nulls in column product_id: 319\n",
      "_\n",
      "Nulls in column product_name: 0\n",
      "Not nulls in column product_name: 319\n",
      "_\n",
      "Nulls in column category_path: 0\n",
      "Not nulls in column category_path: 319\n",
      "_\n",
      "Nulls in column price: 0\n",
      "Not nulls in column price: 319\n",
      "_\n",
      "Nulls in column session_id: 0\n",
      "Not nulls in column session_id: 34374\n",
      "_\n",
      "Nulls in column timestamp: 0\n",
      "Not nulls in column timestamp: 34374\n",
      "_\n",
      "Nulls in column user_id: 0\n",
      "Not nulls in column user_id: 34374\n",
      "_\n",
      "Nulls in column product_id: 0\n",
      "Not nulls in column product_id: 34374\n",
      "_\n",
      "Nulls in column event_type: 0\n",
      "Not nulls in column event_type: 34374\n",
      "_\n",
      "Nulls in column offered_discount: 0\n",
      "Not nulls in column offered_discount: 34374\n",
      "_\n",
      "Nulls in column purchase_id: 29242\n",
      "Not nulls in column purchase_id: 5132\n",
      "_\n",
      "Nulls in column user_id: 0\n",
      "Not nulls in column user_id: 200\n",
      "_\n",
      "Nulls in column name: 0\n",
      "Not nulls in column name: 200\n",
      "_\n",
      "Nulls in column city: 0\n",
      "Not nulls in column city: 200\n",
      "_\n",
      "Nulls in column street: 0\n",
      "Not nulls in column street: 200\n",
      "_\n"
     ]
    }
   ],
   "source": [
    "for df in df_list:\n",
    "    for column in df.columns:\n",
    "        not_nulls, nulls = look_for_nulls(df, column)\n",
    "        uniques = get_unique_values(df, column)\n",
    "        print(f'Nulls in column {column}: {nulls}')\n",
    "        print(f'Not nulls in column {column}: {not_nulls}')\n",
    "        print('_')"
   ],
   "metadata": {
    "collapsed": false,
    "pycharm": {
     "name": "#%%\n"
    }
   }
  },
  {
   "cell_type": "code",
   "execution_count": 885,
   "outputs": [
    {
     "data": {
      "text/plain": "array(['VIEW_PRODUCT', 'BUY_PRODUCT'], dtype=object)"
     },
     "execution_count": 885,
     "metadata": {},
     "output_type": "execute_result"
    }
   ],
   "source": [
    "# Unikalne wartosci dla kolumny event_type\n",
    "get_unique_values(df_sessions, 'event_type')"
   ],
   "metadata": {
    "collapsed": false,
    "pycharm": {
     "name": "#%%\n"
    }
   }
  },
  {
   "cell_type": "code",
   "execution_count": 886,
   "outputs": [
    {
     "data": {
      "text/plain": "0"
     },
     "execution_count": 886,
     "metadata": {},
     "output_type": "execute_result"
    }
   ],
   "source": [
    "# Sprawdzenie czy cena i znizka jest z dobrego przedzialu\n",
    "price_uniques = get_unique_values(df_products, 'price')\n",
    "discount_uniques = get_unique_values(df_sessions, 'offered_discount')\n",
    "sum(price_uniques <= 0) + sum(discount_uniques < 0) + sum(discount_uniques > 100)"
   ],
   "metadata": {
    "collapsed": false,
    "pycharm": {
     "name": "#%%\n"
    }
   }
  },
  {
   "cell_type": "markdown",
   "source": [
    "Możemy zauważyć, że dane nie mają w sobie błędów (np. ujemnej ceny). Nie ma również brakujących danych. Jedyna taka sytuacja jest w kolumnie purchase_id,\n",
    "ale jest to poprawne. Null w takiej sytuacji oznacza brak zakupu w danej chwili. Dodatkowo kolumna event_type ma tylko 2 możliwe wartości VIEW_PRODUCT oraz BUY_PRODUCT\n",
    "co jest korzystne w dalszej pracy."
   ],
   "metadata": {
    "collapsed": false,
    "pycharm": {
     "name": "#%% md\n"
    }
   }
  },
  {
   "cell_type": "markdown",
   "source": [
    "# Badanie współzależności danych\n",
    "Przede wszystkim zamienimy wartości w kolumnie purchase_id na wartości binarne, 0 - brak zakupu, 1 - zakup"
   ],
   "metadata": {
    "collapsed": false,
    "pycharm": {
     "name": "#%% md\n"
    }
   }
  },
  {
   "cell_type": "code",
   "execution_count": 887,
   "outputs": [],
   "source": [
    "import scipy.stats as stats\n",
    "import copy\n",
    "\n",
    "df = copy.deepcopy(df_sessions)\n",
    "df[\"purchase_id\"] = df[\"purchase_id\"].notna().astype(int)\n",
    "df[\"event_type\"] = (df[\"event_type\"] == \"BUY_PRODUCT\").astype(int)"
   ],
   "metadata": {
    "collapsed": false,
    "pycharm": {
     "name": "#%%\n"
    }
   }
  },
  {
   "cell_type": "markdown",
   "source": [
    "## Współczynnik korelacji punktowo-dwuseryjnej między ceną a faktem zakupu\n",
    "Współczynnik ten służy do pomiaru relacji między zmienną ciągłą i zmienną binarną."
   ],
   "metadata": {
    "collapsed": false,
    "pycharm": {
     "name": "#%% md\n"
    }
   }
  },
  {
   "cell_type": "code",
   "execution_count": 888,
   "outputs": [
    {
     "data": {
      "text/plain": "PointbiserialrResult(correlation=-0.0317618397026818, pvalue=3.862217811095643e-09)"
     },
     "execution_count": 888,
     "metadata": {},
     "output_type": "execute_result"
    }
   ],
   "source": [
    "df_merged = copy.deepcopy(df_products)\n",
    "df_merged = df_merged.drop(labels=['product_name'], axis=1)\n",
    "df_merged = pd.merge(df, df_merged, on='product_id', how='left')\n",
    "df_merged = df_merged.drop(labels='timestamp', axis=1)\n",
    "\n",
    "stats.pointbiserialr(df_merged[\"purchase_id\"], df_merged[\"price\"])"
   ],
   "metadata": {
    "collapsed": false,
    "pycharm": {
     "name": "#%%\n"
    }
   }
  },
  {
   "cell_type": "markdown",
   "source": [
    "## Współczynnik informacji wzajemnej\n",
    "W tym przypadku stosujemy go dla zmiennych dyskretnych (nieporządkowych). Jedyna zmienna dyskretna porządkowa (analizowana poniżej) to atrybut 'offered_discount'."
   ],
   "metadata": {
    "collapsed": false,
    "pycharm": {
     "name": "#%% md\n"
    }
   }
  },
  {
   "cell_type": "code",
   "execution_count": 889,
   "outputs": [
    {
     "name": "stdout",
     "output_type": "stream",
     "text": [
      "[0.271584888917021, 'user_id', 'product_id']\n",
      "[0.008827171948987661, 'user_id', 'event_type']\n",
      "[0.06672958806255558, 'user_id', 'offered_discount']\n",
      "[0.008827171948987661, 'user_id', 'purchase_id']\n",
      "[0.17662644806499578, 'user_id', 'category_path']\n",
      "[0.04602276334340634, 'product_id', 'event_type']\n",
      "[0.005211114984208808, 'product_id', 'offered_discount']\n",
      "[0.04602276334340634, 'product_id', 'purchase_id']\n",
      "[2.5820673067749498, 'product_id', 'category_path']\n",
      "[2.8427119742054086e-05, 'event_type', 'offered_discount']\n",
      "[0.421491009242167, 'event_type', 'purchase_id']\n",
      "[0.045402191129520604, 'event_type', 'category_path']\n",
      "[2.8427119742054086e-05, 'offered_discount', 'purchase_id']\n",
      "[0.0033685476313884827, 'offered_discount', 'category_path']\n",
      "[0.045402191129520604, 'purchase_id', 'category_path']\n"
     ]
    }
   ],
   "source": [
    "from sklearn.metrics import mutual_info_score\n",
    "import itertools\n",
    "\n",
    "def get_mi(df, columns):\n",
    "    combinations = list(itertools.combinations(columns, 2))\n",
    "    result = []\n",
    "    df['category_path'] =df['category_path'].astype(\"category\")\n",
    "    df['category_path'] =df['category_path'].cat.codes\n",
    "    for com in combinations:\n",
    "        mi = mutual_info_score(df[com[0]], df[com[1]])\n",
    "        result.append([mi, com[0], com[1]])\n",
    "    return result\n",
    "\n",
    "df_pom = copy.deepcopy(df_merged)\n",
    "\n",
    "# Atrybuty dyskretne\n",
    "mi_to_check = ['user_id', 'product_id', 'event_type', 'offered_discount', 'purchase_id', 'category_path']\n",
    "\n",
    "results = get_mi(df_pom, mi_to_check)\n",
    "for result in results:\n",
    "    print(result)"
   ],
   "metadata": {
    "collapsed": false,
    "pycharm": {
     "name": "#%%\n"
    }
   }
  },
  {
   "cell_type": "code",
   "execution_count": 890,
   "outputs": [
    {
     "name": "stdout",
     "output_type": "stream",
     "text": [
      "0.1596191476457325 purchase_id, products_seen\n"
     ]
    }
   ],
   "source": [
    "# Jaki wplyw ma ilosc ogladanych produktow na fakt zakupu\n",
    "df_pom = copy.deepcopy(df_merged)\n",
    "df_pom = df_pom.groupby('session_id')['purchase_id'].agg(['sum', 'count'])\n",
    "print(mutual_info_score(df_pom['sum'], df_pom['count']), 'purchase_id, products_seen' )"
   ],
   "metadata": {
    "collapsed": false,
    "pycharm": {
     "name": "#%%\n"
    }
   }
  },
  {
   "cell_type": "code",
   "execution_count": 891,
   "outputs": [
    {
     "name": "stdout",
     "output_type": "stream",
     "text": [
      "0.006154445022178767 purchase_id, city\n"
     ]
    }
   ],
   "source": [
    "# Jaki wplyw ma miasto na fakt zakupu\n",
    "d = df.merge(df_users, on='user_id', how='left')\n",
    "print(mutual_info_score(d['purchase_id'], d['city']), 'purchase_id, city' )"
   ],
   "metadata": {
    "collapsed": false,
    "pycharm": {
     "name": "#%%\n"
    }
   }
  },
  {
   "cell_type": "markdown",
   "source": [
    "# Wnioski\n",
    "### Uwaga: purchase_id zamieniono na zmienną binarną, informującą czy dokonano zakupu\n",
    "W analizie tego współczynnika pomijamy takie atrybuty jak np. session_id. Jest to atrybut ściśle pomocniczy, który służy tylko do grupowania wierszy w danych. Największe wartości współczynnik informacji wzajemnej przyjmuje dla pary atrybutów [product_id, category_path]. Wynika to oczywiście z faktu ścisłego powiązania produktów z ich kategorią. Całkiem spore wartości przyjmował również dla par [user_id, product_id], [user_id, category_path], [event_type, purchase_id]. Interesuje nas przede wszystkim wartość współczynnika dla pary z 'purchase_id', ponieważ atrybut ten informuje nas o zakupie produktu. Kolejne wartości dla pary z purchase_id:\n",
    "- user_id --> 0.0088\n",
    "- product_id --> 0.046\n",
    "- offered_discount --> około 0.00003\n",
    "- category_path --> 0.0454\n",
    "- products_seen --> 0.1596\n",
    "- city --> 0.0062\n",
    "\n",
    "Pomijamy atrybut event_type, ponieważ jest on tożsamościowy z atrybutem purchase_id. Wartość \"VIEW_PRODUCT\" zawsze wiążę z tym, że purchase_id ma wartośc null (0). W innym przypadku\n",
    "ma przypisaną wartość “BUY_PRODUCT” (1 po zmianach).\n",
    "\n",
    "Możemy zauważyć, że całkiem wysoki współczynnik jest dla pary [purchase_id, products_seen], [purchase_id, product_id] oraz [purchase_id, category_path]. Dla 3 pozostałych atrybutów jest on o wiele mniejszy, ale ciągle niezerowy.\n",
    "\n",
    "Dodatkowo wcześniej wyliczony współczynnik korelacji punktowo-dwuseryjnej wynosił -0.0317 dla pary [purchase_id, price].\n",
    "\n",
    "Z uzyskanych wartości współczynnika wartości wzajemnej i współczynnika korelacji punktowo-dwuseryjnej wynika, że atrybuty nie niosą bardzo dużej informacji o końcowym fakcie zakupy w obrębie danej sesji. Natomiast kombinacja wszystkich tych atrybutów może dawać całkiem dobre rezultaty."
   ],
   "metadata": {
    "collapsed": false,
    "pycharm": {
     "name": "#%% md\n"
    }
   }
  },
  {
   "cell_type": "markdown",
   "source": [
    "# Rozkłady atrybutów"
   ],
   "metadata": {
    "collapsed": false,
    "pycharm": {
     "name": "#%% md\n"
    }
   }
  },
  {
   "cell_type": "markdown",
   "source": [
    "## Produkty"
   ],
   "metadata": {
    "collapsed": false,
    "pycharm": {
     "name": "#%% md\n"
    }
   }
  },
  {
   "cell_type": "code",
   "execution_count": 892,
   "outputs": [
    {
     "data": {
      "text/plain": "count     319.000000\nmean      247.787962\nstd       813.788548\nmin         1.000000\n25%        24.990000\n50%        41.000000\n75%        92.995000\nmax      7639.000000\nName: price, dtype: float64"
     },
     "execution_count": 892,
     "metadata": {},
     "output_type": "execute_result"
    }
   ],
   "source": [
    "import matplotlib.pyplot as plt\n",
    "df_products[\"price\"].describe()"
   ],
   "metadata": {
    "collapsed": false,
    "pycharm": {
     "name": "#%%\n"
    }
   }
  },
  {
   "cell_type": "code",
   "execution_count": 893,
   "outputs": [
    {
     "data": {
      "text/plain": "<AxesSubplot:>"
     },
     "execution_count": 893,
     "metadata": {},
     "output_type": "execute_result"
    },
    {
     "data": {
      "text/plain": "<Figure size 432x288 with 1 Axes>",
      "image/png": "[encoded data removed]"
     },
     "metadata": {
      "needs_background": "light"
     },
     "output_type": "display_data"
    }
   ],
   "source": [
    "cut_bins = [0, 42, 93, 248, 1000, 8000]\n",
    "pd.cut(df_products[\"price\"], bins=cut_bins).value_counts().plot(kind=\"bar\")"
   ],
   "metadata": {
    "collapsed": false,
    "pycharm": {
     "name": "#%%\n"
    }
   }
  },
  {
   "cell_type": "markdown",
   "source": [
    "Zauważamy, iż zdecydowanie najwięcej jest produktów w niskich cenach, 75% produktów jest w cenie poniżej 93. Także nasz sklep głównie nastawia się na sprzedaż tańszych produktów."
   ],
   "metadata": {
    "collapsed": false,
    "pycharm": {
     "name": "#%% md\n"
    }
   }
  },
  {
   "cell_type": "code",
   "execution_count": 894,
   "outputs": [
    {
     "data": {
      "text/plain": "<BarContainer object of 4 artists>"
     },
     "execution_count": 894,
     "metadata": {},
     "output_type": "execute_result"
    },
    {
     "data": {
      "text/plain": "<Figure size 432x288 with 1 Axes>",
      "image/png": "[encoded data removed]"
     },
     "metadata": {
      "needs_background": "light"
     },
     "output_type": "display_data"
    }
   ],
   "source": [
    "root_categories = df_products['category_path'].str.split(\";\").str.get(0).unique()\n",
    "num_products = []\n",
    "for i in range(len(root_categories)):\n",
    "    num_products.append(df_products[df_products['category_path'].str.startswith(root_categories[i])].shape[0])\n",
    "plt.bar(root_categories, num_products)"
   ],
   "metadata": {
    "collapsed": false,
    "pycharm": {
     "name": "#%%\n"
    }
   }
  },
  {
   "cell_type": "markdown",
   "source": [
    "Zauważamy, że zdecydowana większość naszych produktów należy do kategorii Gry i konsole co zgadzałoby się też z naszymi obserwacjami zwiazanymi z ceną, gry nie są zbyt drogie w porównaniu do sprzętu co skutkuje tym, iż dominujące są przedmioty o niższych cenach."
   ],
   "metadata": {
    "collapsed": false,
    "pycharm": {
     "name": "#%% md\n"
    }
   }
  },
  {
   "cell_type": "markdown",
   "source": [
    "Ciekawą obserwacją może być to, iż jeżeli w sesji występuje zakup to jest to zawsze jej ostatni krok."
   ],
   "metadata": {
    "collapsed": false,
    "pycharm": {
     "name": "#%% md\n"
    }
   }
  },
  {
   "cell_type": "code",
   "execution_count": 895,
   "outputs": [
    {
     "data": {
      "text/plain": "       session_id  purchase         root_category\n5             124         1            Sprzęt RTV\n10            125         1         Gry i konsole\n12            126         1            Sprzęt RTV\n14            127         1            Sprzęt RTV\n17            128         1  Telefony i akcesoria\n...           ...       ...                   ...\n34356        9458         1  Telefony i akcesoria\n34364        9459         1             Komputery\n34366        9460         1         Gry i konsole\n34371        9461         0             Komputery\n34373        9462         1            Sprzęt RTV\n\n[9339 rows x 3 columns]",
      "text/html": "<div>\n<style scoped>\n    .dataframe tbody tr th:only-of-type {\n        vertical-align: middle;\n    }\n\n    .dataframe tbody tr th {\n        vertical-align: top;\n    }\n\n    .dataframe thead th {\n        text-align: right;\n    }\n</style>\n<table border=\"1\" class=\"dataframe\">\n  <thead>\n    <tr style=\"text-align: right;\">\n      <th></th>\n      <th>session_id</th>\n      <th>purchase</th>\n      <th>root_category</th>\n    </tr>\n  </thead>\n  <tbody>\n    <tr>\n      <th>5</th>\n      <td>124</td>\n      <td>1</td>\n      <td>Sprzęt RTV</td>\n    </tr>\n    <tr>\n      <th>10</th>\n      <td>125</td>\n      <td>1</td>\n      <td>Gry i konsole</td>\n    </tr>\n    <tr>\n      <th>12</th>\n      <td>126</td>\n      <td>1</td>\n      <td>Sprzęt RTV</td>\n    </tr>\n    <tr>\n      <th>14</th>\n      <td>127</td>\n      <td>1</td>\n      <td>Sprzęt RTV</td>\n    </tr>\n    <tr>\n      <th>17</th>\n      <td>128</td>\n      <td>1</td>\n      <td>Telefony i akcesoria</td>\n    </tr>\n    <tr>\n      <th>...</th>\n      <td>...</td>\n      <td>...</td>\n      <td>...</td>\n    </tr>\n    <tr>\n      <th>34356</th>\n      <td>9458</td>\n      <td>1</td>\n      <td>Telefony i akcesoria</td>\n    </tr>\n    <tr>\n      <th>34364</th>\n      <td>9459</td>\n      <td>1</td>\n      <td>Komputery</td>\n    </tr>\n    <tr>\n      <th>34366</th>\n      <td>9460</td>\n      <td>1</td>\n      <td>Gry i konsole</td>\n    </tr>\n    <tr>\n      <th>34371</th>\n      <td>9461</td>\n      <td>0</td>\n      <td>Komputery</td>\n    </tr>\n    <tr>\n      <th>34373</th>\n      <td>9462</td>\n      <td>1</td>\n      <td>Sprzęt RTV</td>\n    </tr>\n  </tbody>\n</table>\n<p>9339 rows × 3 columns</p>\n</div>"
     },
     "execution_count": 895,
     "metadata": {},
     "output_type": "execute_result"
    }
   ],
   "source": [
    "new_df = copy.deepcopy(df_sessions)\n",
    "new_df['purchase_id'] = new_df['purchase_id'].notna().astype(int)\n",
    "new_df = pd.merge(new_df, df_products, on='product_id', how=\"left\")\n",
    "new_df = new_df.groupby('session_id').tail(1)\n",
    "\n",
    "df_cat = new_df.drop(columns=['timestamp', 'user_id', 'event_type', 'offered_discount', 'product_id', 'price', 'product_name'])\n",
    "df_cat['category_path'] = df_cat['category_path'].str.split(';').str.get(0)\n",
    "df_cat = df_cat.rename(columns={'purchase_id':'purchase', 'category_path':'root_category'})\n",
    "df_cat"
   ],
   "metadata": {
    "collapsed": false,
    "pycharm": {
     "name": "#%%\n"
    }
   }
  },
  {
   "cell_type": "code",
   "execution_count": 896,
   "outputs": [
    {
     "data": {
      "text/plain": "<AxesSubplot:xlabel='root_category'>"
     },
     "execution_count": 896,
     "metadata": {},
     "output_type": "execute_result"
    },
    {
     "data": {
      "text/plain": "<Figure size 432x288 with 1 Axes>",
      "image/png": "[encoded data removed]"
     },
     "metadata": {
      "needs_background": "light"
     },
     "output_type": "display_data"
    }
   ],
   "source": [
    "groups_sum = df_cat.groupby('root_category')['purchase'].sum()\n",
    "groups_sum.plot(kind=\"bar\")"
   ],
   "metadata": {
    "collapsed": false,
    "pycharm": {
     "name": "#%%\n"
    }
   }
  },
  {
   "cell_type": "markdown",
   "source": [
    "Mimo, że najwiecej w ofercie sklepu znajduje się gier oraz konsol to nie ma to pokrycia w zakupach jakie dokonują klienci. Gry i konsole są najrzadziej kupowanymi produktami."
   ],
   "metadata": {
    "collapsed": false,
    "pycharm": {
     "name": "#%% md\n"
    }
   }
  },
  {
   "cell_type": "markdown",
   "source": [
    "# Rozkład danych w czasie"
   ],
   "metadata": {
    "collapsed": false,
    "pycharm": {
     "name": "#%% md\n"
    }
   }
  },
  {
   "cell_type": "markdown",
   "source": [
    "### Ilość sesji zależnie od miesiąca"
   ],
   "metadata": {
    "collapsed": false,
    "pycharm": {
     "name": "#%% md\n"
    }
   }
  },
  {
   "cell_type": "code",
   "execution_count": 897,
   "outputs": [
    {
     "data": {
      "text/plain": "<AxesSubplot:xlabel='month'>"
     },
     "execution_count": 897,
     "metadata": {},
     "output_type": "execute_result"
    },
    {
     "data": {
      "text/plain": "<Figure size 432x288 with 1 Axes>",
      "image/png": "[encoded data removed]"
     },
     "metadata": {
      "needs_background": "light"
     },
     "output_type": "display_data"
    }
   ],
   "source": [
    "d = copy.deepcopy(new_df)\n",
    "d['month'] = pd.DatetimeIndex(d['timestamp']).month\n",
    "d.groupby('session_id')\n",
    "d.groupby('month').size().plot(kind='bar')"
   ],
   "metadata": {
    "collapsed": false,
    "pycharm": {
     "name": "#%%\n"
    }
   }
  },
  {
   "cell_type": "markdown",
   "source": [
    "### Ilość dokonanych zakupów zależnie od miesiąca"
   ],
   "metadata": {
    "collapsed": false,
    "pycharm": {
     "name": "#%% md\n"
    }
   }
  },
  {
   "cell_type": "code",
   "execution_count": 898,
   "outputs": [
    {
     "data": {
      "text/plain": "<AxesSubplot:xlabel='month'>"
     },
     "execution_count": 898,
     "metadata": {},
     "output_type": "execute_result"
    },
    {
     "data": {
      "text/plain": "<Figure size 432x288 with 1 Axes>",
      "image/png": "[encoded data removed]"
     },
     "metadata": {
      "needs_background": "light"
     },
     "output_type": "display_data"
    }
   ],
   "source": [
    "d = copy.deepcopy(new_df)\n",
    "d = d.loc[d['purchase_id'] == 1]\n",
    "d['month'] = pd.DatetimeIndex(d['timestamp']).month\n",
    "d.groupby('session_id')\n",
    "d.groupby('month').size().plot(kind='bar')"
   ],
   "metadata": {
    "collapsed": false,
    "pycharm": {
     "name": "#%%\n"
    }
   }
  },
  {
   "cell_type": "markdown",
   "source": [
    "### Ilość sesji zależnie od dnia tygodnia"
   ],
   "metadata": {
    "collapsed": false,
    "pycharm": {
     "name": "#%% md\n"
    }
   }
  },
  {
   "cell_type": "code",
   "execution_count": 899,
   "outputs": [
    {
     "data": {
      "text/plain": "<AxesSubplot:xlabel='day'>"
     },
     "execution_count": 899,
     "metadata": {},
     "output_type": "execute_result"
    },
    {
     "data": {
      "text/plain": "<Figure size 432x288 with 1 Axes>",
      "image/png": "[encoded data removed]"
     },
     "metadata": {
      "needs_background": "light"
     },
     "output_type": "display_data"
    }
   ],
   "source": [
    "d = copy.deepcopy(new_df)\n",
    "d['day'] = pd.DatetimeIndex(d['timestamp']).dayofweek\n",
    "d.groupby('session_id')\n",
    "d.groupby('day').size().plot(kind='bar')"
   ],
   "metadata": {
    "collapsed": false,
    "pycharm": {
     "name": "#%%\n"
    }
   }
  },
  {
   "cell_type": "markdown",
   "source": [
    "### Ilość sesji zależnie od godziny"
   ],
   "metadata": {
    "collapsed": false,
    "pycharm": {
     "name": "#%% md\n"
    }
   }
  },
  {
   "cell_type": "code",
   "execution_count": 900,
   "outputs": [
    {
     "data": {
      "text/plain": "<AxesSubplot:xlabel='hour'>"
     },
     "execution_count": 900,
     "metadata": {},
     "output_type": "execute_result"
    },
    {
     "data": {
      "text/plain": "<Figure size 432x288 with 1 Axes>",
      "image/png": "[encoded data removed]"
     },
     "metadata": {
      "needs_background": "light"
     },
     "output_type": "display_data"
    }
   ],
   "source": [
    "d = copy.deepcopy(new_df)\n",
    "d['hour'] = pd.DatetimeIndex(d['timestamp']).hour\n",
    "d.groupby('session_id')\n",
    "d.groupby('hour').size().plot(kind='bar')"
   ],
   "metadata": {
    "collapsed": false,
    "pycharm": {
     "name": "#%%\n"
    }
   }
  },
  {
   "cell_type": "markdown",
   "source": [
    "### Ilość zakupów zależnie od godziny"
   ],
   "metadata": {
    "collapsed": false,
    "pycharm": {
     "name": "#%% md\n"
    }
   }
  },
  {
   "cell_type": "code",
   "execution_count": 901,
   "outputs": [
    {
     "data": {
      "text/plain": "<AxesSubplot:xlabel='hour'>"
     },
     "execution_count": 901,
     "metadata": {},
     "output_type": "execute_result"
    },
    {
     "data": {
      "text/plain": "<Figure size 432x288 with 1 Axes>",
      "image/png": "[encoded data removed]"
     },
     "metadata": {
      "needs_background": "light"
     },
     "output_type": "display_data"
    }
   ],
   "source": [
    "d = copy.deepcopy(new_df)\n",
    "d = d.loc[d['purchase_id'] == 1]\n",
    "d['hour'] = pd.DatetimeIndex(d['timestamp']).hour\n",
    "d.groupby('session_id')\n",
    "d.groupby('hour').size().plot(kind='bar')"
   ],
   "metadata": {
    "collapsed": false,
    "pycharm": {
     "name": "#%%\n"
    }
   }
  },
  {
   "cell_type": "markdown",
   "source": [
    "Możemy zauważyć, że w każdej wcześniej wymienionej sytuacji dane są rozłożonone w miarę jednostajnie, niezależnie od jakiegokolwiek warunku związanego z czasem."
   ],
   "metadata": {
    "collapsed": false,
    "pycharm": {
     "name": "#%% md\n"
    }
   }
  },
  {
   "cell_type": "markdown",
   "source": [
    "# Użytkownicy"
   ],
   "metadata": {
    "collapsed": false,
    "pycharm": {
     "name": "#%% md\n"
    }
   }
  },
  {
   "cell_type": "code",
   "execution_count": 902,
   "outputs": [
    {
     "data": {
      "text/plain": "     user_id  sex\n0        102    0\n1        103    0\n2        104    1\n3        105    0\n4        106    0\n..       ...  ...\n195      297    1\n196      298    1\n197      299    0\n198      300    0\n199      301    0\n\n[200 rows x 2 columns]",
      "text/html": "<div>\n<style scoped>\n    .dataframe tbody tr th:only-of-type {\n        vertical-align: middle;\n    }\n\n    .dataframe tbody tr th {\n        vertical-align: top;\n    }\n\n    .dataframe thead th {\n        text-align: right;\n    }\n</style>\n<table border=\"1\" class=\"dataframe\">\n  <thead>\n    <tr style=\"text-align: right;\">\n      <th></th>\n      <th>user_id</th>\n      <th>sex</th>\n    </tr>\n  </thead>\n  <tbody>\n    <tr>\n      <th>0</th>\n      <td>102</td>\n      <td>0</td>\n    </tr>\n    <tr>\n      <th>1</th>\n      <td>103</td>\n      <td>0</td>\n    </tr>\n    <tr>\n      <th>2</th>\n      <td>104</td>\n      <td>1</td>\n    </tr>\n    <tr>\n      <th>3</th>\n      <td>105</td>\n      <td>0</td>\n    </tr>\n    <tr>\n      <th>4</th>\n      <td>106</td>\n      <td>0</td>\n    </tr>\n    <tr>\n      <th>...</th>\n      <td>...</td>\n      <td>...</td>\n    </tr>\n    <tr>\n      <th>195</th>\n      <td>297</td>\n      <td>1</td>\n    </tr>\n    <tr>\n      <th>196</th>\n      <td>298</td>\n      <td>1</td>\n    </tr>\n    <tr>\n      <th>197</th>\n      <td>299</td>\n      <td>0</td>\n    </tr>\n    <tr>\n      <th>198</th>\n      <td>300</td>\n      <td>0</td>\n    </tr>\n    <tr>\n      <th>199</th>\n      <td>301</td>\n      <td>0</td>\n    </tr>\n  </tbody>\n</table>\n<p>200 rows × 2 columns</p>\n</div>"
     },
     "execution_count": 902,
     "metadata": {},
     "output_type": "execute_result"
    }
   ],
   "source": [
    "df_sex = copy.deepcopy(df_users)\n",
    "df_sex = df_sex.drop(columns=['city', 'street'])\n",
    "df_sex['name'] = df_sex['name'].str.split(' ').str.get(0)\n",
    "df_sex['name'] = df_sex['name'].str.endswith('a')\n",
    "df_sex = df_sex.rename(columns={'name':'sex'})\n",
    "df_sex['sex'] = df_sex['sex'].astype(int)\n",
    "df_sex"
   ],
   "metadata": {
    "collapsed": false,
    "pycharm": {
     "name": "#%%\n"
    }
   }
  },
  {
   "cell_type": "markdown",
   "source": [
    "SEX: 0 - mężczyźni, 1 - kobiety"
   ],
   "metadata": {
    "collapsed": false,
    "pycharm": {
     "name": "#%% md\n"
    }
   }
  },
  {
   "cell_type": "code",
   "execution_count": 903,
   "outputs": [
    {
     "data": {
      "text/plain": "<BarContainer object of 2 artists>"
     },
     "execution_count": 903,
     "metadata": {},
     "output_type": "execute_result"
    },
    {
     "data": {
      "text/plain": "<Figure size 432x288 with 1 Axes>",
      "image/png": "[encoded data removed]"
     },
     "metadata": {
      "needs_background": "light"
     },
     "output_type": "display_data"
    }
   ],
   "source": [
    "df_sex['sex'] = df_sex['sex'].astype(bool)\n",
    "sex = ['woman', 'man']\n",
    "num_sex = [df_sex['sex'].sum(), (~df_sex['sex']).sum()]\n",
    "df_sex['sex'] = df_sex['sex'].astype(int)\n",
    "plt.bar(sex, num_sex)"
   ],
   "metadata": {
    "collapsed": false,
    "pycharm": {
     "name": "#%%\n"
    }
   }
  },
  {
   "cell_type": "code",
   "execution_count": 904,
   "outputs": [
    {
     "data": {
      "text/plain": "1.9850746268656716"
     },
     "execution_count": 904,
     "metadata": {},
     "output_type": "execute_result"
    }
   ],
   "source": [
    "num_sex[1]/num_sex[0]"
   ],
   "metadata": {
    "collapsed": false,
    "pycharm": {
     "name": "#%%\n"
    }
   }
  },
  {
   "cell_type": "markdown",
   "source": [
    "Zauważamy, że naszymi klientami w większości są mężczyźni jest ich prawie dwukrotnie więcej od kobiet."
   ],
   "metadata": {
    "collapsed": false,
    "pycharm": {
     "name": "#%% md\n"
    }
   }
  },
  {
   "cell_type": "code",
   "execution_count": 905,
   "outputs": [
    {
     "data": {
      "text/plain": "      session_id  user_id  purchase_id  sex\n0            124      102            1    0\n1            125      102            1    0\n2            126      102            1    0\n3            127      102            1    0\n4            128      102            1    0\n...          ...      ...          ...  ...\n9332        9456      301            1    0\n9334        9458      301            1    0\n9335        9459      301            1    0\n9336        9460      301            1    0\n9338        9462      301            1    0\n\n[5132 rows x 4 columns]",
      "text/html": "<div>\n<style scoped>\n    .dataframe tbody tr th:only-of-type {\n        vertical-align: middle;\n    }\n\n    .dataframe tbody tr th {\n        vertical-align: top;\n    }\n\n    .dataframe thead th {\n        text-align: right;\n    }\n</style>\n<table border=\"1\" class=\"dataframe\">\n  <thead>\n    <tr style=\"text-align: right;\">\n      <th></th>\n      <th>session_id</th>\n      <th>user_id</th>\n      <th>purchase_id</th>\n      <th>sex</th>\n    </tr>\n  </thead>\n  <tbody>\n    <tr>\n      <th>0</th>\n      <td>124</td>\n      <td>102</td>\n      <td>1</td>\n      <td>0</td>\n    </tr>\n    <tr>\n      <th>1</th>\n      <td>125</td>\n      <td>102</td>\n      <td>1</td>\n      <td>0</td>\n    </tr>\n    <tr>\n      <th>2</th>\n      <td>126</td>\n      <td>102</td>\n      <td>1</td>\n      <td>0</td>\n    </tr>\n    <tr>\n      <th>3</th>\n      <td>127</td>\n      <td>102</td>\n      <td>1</td>\n      <td>0</td>\n    </tr>\n    <tr>\n      <th>4</th>\n      <td>128</td>\n      <td>102</td>\n      <td>1</td>\n      <td>0</td>\n    </tr>\n    <tr>\n      <th>...</th>\n      <td>...</td>\n      <td>...</td>\n      <td>...</td>\n      <td>...</td>\n    </tr>\n    <tr>\n      <th>9332</th>\n      <td>9456</td>\n      <td>301</td>\n      <td>1</td>\n      <td>0</td>\n    </tr>\n    <tr>\n      <th>9334</th>\n      <td>9458</td>\n      <td>301</td>\n      <td>1</td>\n      <td>0</td>\n    </tr>\n    <tr>\n      <th>9335</th>\n      <td>9459</td>\n      <td>301</td>\n      <td>1</td>\n      <td>0</td>\n    </tr>\n    <tr>\n      <th>9336</th>\n      <td>9460</td>\n      <td>301</td>\n      <td>1</td>\n      <td>0</td>\n    </tr>\n    <tr>\n      <th>9338</th>\n      <td>9462</td>\n      <td>301</td>\n      <td>1</td>\n      <td>0</td>\n    </tr>\n  </tbody>\n</table>\n<p>5132 rows × 4 columns</p>\n</div>"
     },
     "execution_count": 905,
     "metadata": {},
     "output_type": "execute_result"
    }
   ],
   "source": [
    "df_comp_sex = copy.deepcopy(new_df)\n",
    "df_comp_sex = df_comp_sex.drop(columns=['timestamp', 'product_id', 'event_type', 'offered_discount', 'product_name', 'category_path', 'price'])\n",
    "df_comp_sex = df_comp_sex.merge(df_sex, on='user_id', how='left')\n",
    "\n",
    "df_comp_sex = df_comp_sex.loc[df_comp_sex['purchase_id'] == 1]\n",
    "df_comp_sex"
   ],
   "metadata": {
    "collapsed": false,
    "pycharm": {
     "name": "#%%\n"
    }
   }
  },
  {
   "cell_type": "code",
   "execution_count": 906,
   "outputs": [
    {
     "data": {
      "text/plain": "<AxesSubplot:xlabel='sex'>"
     },
     "execution_count": 906,
     "metadata": {},
     "output_type": "execute_result"
    },
    {
     "data": {
      "text/plain": "<Figure size 432x288 with 1 Axes>",
      "image/png": "[encoded data removed]"
     },
     "metadata": {
      "needs_background": "light"
     },
     "output_type": "display_data"
    }
   ],
   "source": [
    "groups_sum = df_comp_sex.groupby('sex').purchase_id.sum().rename(index={False:'Man', True:'Woman'})\n",
    "groups_sum.plot(kind=\"bar\")"
   ],
   "metadata": {
    "collapsed": false,
    "pycharm": {
     "name": "#%%\n"
    }
   }
  },
  {
   "cell_type": "code",
   "execution_count": 907,
   "outputs": [
    {
     "data": {
      "text/plain": "2.074895146794488"
     },
     "execution_count": 907,
     "metadata": {},
     "output_type": "execute_result"
    }
   ],
   "source": [
    "groups_sum[0]/groups_sum[1]"
   ],
   "metadata": {
    "collapsed": false,
    "pycharm": {
     "name": "#%%\n"
    }
   }
  },
  {
   "cell_type": "markdown",
   "source": [
    "Możemy zauważyć, iż stosunek liczby zakupionych produktów przez mężczyzn oraz kobiety ( =2.075 ) nie odbiega w znaczący sposób od stosunku mężczyzn oraz kobiet będących klientami ( =1.985 ), co wskazuje na to, że nie możemy doszukiwać się zależności między zakupem przedmiotu a płcią klienta."
   ],
   "metadata": {
    "collapsed": false,
    "pycharm": {
     "name": "#%% md\n"
    }
   }
  },
  {
   "cell_type": "markdown",
   "source": [
    "## Czas trwania sesji"
   ],
   "metadata": {
    "collapsed": false,
    "pycharm": {
     "name": "#%% md\n"
    }
   }
  },
  {
   "cell_type": "code",
   "execution_count": 908,
   "outputs": [
    {
     "data": {
      "text/plain": "       session_id           timestamp  purchase_id\n0             124 2021-02-13 05:31:27            0\n1             124 2021-02-13 05:34:39            0\n2             124 2021-02-13 05:38:20            0\n3             124 2021-02-13 05:39:02            0\n4             124 2021-02-13 05:42:43            0\n...           ...                 ...          ...\n34369        9461 2021-07-25 11:44:35            0\n34370        9461 2021-07-25 11:46:38            0\n34371        9461 2021-07-25 11:48:24            0\n34372        9462 2021-08-19 21:15:08            0\n34373        9462 2021-08-19 21:17:34            1\n\n[34374 rows x 3 columns]",
      "text/html": "<div>\n<style scoped>\n    .dataframe tbody tr th:only-of-type {\n        vertical-align: middle;\n    }\n\n    .dataframe tbody tr th {\n        vertical-align: top;\n    }\n\n    .dataframe thead th {\n        text-align: right;\n    }\n</style>\n<table border=\"1\" class=\"dataframe\">\n  <thead>\n    <tr style=\"text-align: right;\">\n      <th></th>\n      <th>session_id</th>\n      <th>timestamp</th>\n      <th>purchase_id</th>\n    </tr>\n  </thead>\n  <tbody>\n    <tr>\n      <th>0</th>\n      <td>124</td>\n      <td>2021-02-13 05:31:27</td>\n      <td>0</td>\n    </tr>\n    <tr>\n      <th>1</th>\n      <td>124</td>\n      <td>2021-02-13 05:34:39</td>\n      <td>0</td>\n    </tr>\n    <tr>\n      <th>2</th>\n      <td>124</td>\n      <td>2021-02-13 05:38:20</td>\n      <td>0</td>\n    </tr>\n    <tr>\n      <th>3</th>\n      <td>124</td>\n      <td>2021-02-13 05:39:02</td>\n      <td>0</td>\n    </tr>\n    <tr>\n      <th>4</th>\n      <td>124</td>\n      <td>2021-02-13 05:42:43</td>\n      <td>0</td>\n    </tr>\n    <tr>\n      <th>...</th>\n      <td>...</td>\n      <td>...</td>\n      <td>...</td>\n    </tr>\n    <tr>\n      <th>34369</th>\n      <td>9461</td>\n      <td>2021-07-25 11:44:35</td>\n      <td>0</td>\n    </tr>\n    <tr>\n      <th>34370</th>\n      <td>9461</td>\n      <td>2021-07-25 11:46:38</td>\n      <td>0</td>\n    </tr>\n    <tr>\n      <th>34371</th>\n      <td>9461</td>\n      <td>2021-07-25 11:48:24</td>\n      <td>0</td>\n    </tr>\n    <tr>\n      <th>34372</th>\n      <td>9462</td>\n      <td>2021-08-19 21:15:08</td>\n      <td>0</td>\n    </tr>\n    <tr>\n      <th>34373</th>\n      <td>9462</td>\n      <td>2021-08-19 21:17:34</td>\n      <td>1</td>\n    </tr>\n  </tbody>\n</table>\n<p>34374 rows × 3 columns</p>\n</div>"
     },
     "execution_count": 908,
     "metadata": {},
     "output_type": "execute_result"
    }
   ],
   "source": [
    "df_time = copy.deepcopy(df_sessions)\n",
    "df_time['purchase_id'] = df_time['purchase_id'].notna().astype(int)\n",
    "df_time = df_time[['session_id', 'timestamp', 'purchase_id']].copy()\n",
    "df_time"
   ],
   "metadata": {
    "collapsed": false,
    "pycharm": {
     "name": "#%%\n"
    }
   }
  },
  {
   "cell_type": "code",
   "execution_count": 909,
   "outputs": [
    {
     "data": {
      "text/plain": "      session_id           timestamp  purchase_id\n0            124 2021-02-13 05:31:27            0\n1            125 2021-10-27 07:55:18            0\n2            126 2021-02-18 20:47:28            0\n3            127 2021-04-27 23:25:59            0\n4            128 2021-01-20 20:03:25            0\n...          ...                 ...          ...\n9334        9458 2021-05-27 22:47:59            0\n9335        9459 2021-09-03 11:53:29            0\n9336        9460 2021-08-03 20:38:56            0\n9337        9461 2021-07-25 11:39:28            0\n9338        9462 2021-08-19 21:15:08            0\n\n[9339 rows x 3 columns]",
      "text/html": "<div>\n<style scoped>\n    .dataframe tbody tr th:only-of-type {\n        vertical-align: middle;\n    }\n\n    .dataframe tbody tr th {\n        vertical-align: top;\n    }\n\n    .dataframe thead th {\n        text-align: right;\n    }\n</style>\n<table border=\"1\" class=\"dataframe\">\n  <thead>\n    <tr style=\"text-align: right;\">\n      <th></th>\n      <th>session_id</th>\n      <th>timestamp</th>\n      <th>purchase_id</th>\n    </tr>\n  </thead>\n  <tbody>\n    <tr>\n      <th>0</th>\n      <td>124</td>\n      <td>2021-02-13 05:31:27</td>\n      <td>0</td>\n    </tr>\n    <tr>\n      <th>1</th>\n      <td>125</td>\n      <td>2021-10-27 07:55:18</td>\n      <td>0</td>\n    </tr>\n    <tr>\n      <th>2</th>\n      <td>126</td>\n      <td>2021-02-18 20:47:28</td>\n      <td>0</td>\n    </tr>\n    <tr>\n      <th>3</th>\n      <td>127</td>\n      <td>2021-04-27 23:25:59</td>\n      <td>0</td>\n    </tr>\n    <tr>\n      <th>4</th>\n      <td>128</td>\n      <td>2021-01-20 20:03:25</td>\n      <td>0</td>\n    </tr>\n    <tr>\n      <th>...</th>\n      <td>...</td>\n      <td>...</td>\n      <td>...</td>\n    </tr>\n    <tr>\n      <th>9334</th>\n      <td>9458</td>\n      <td>2021-05-27 22:47:59</td>\n      <td>0</td>\n    </tr>\n    <tr>\n      <th>9335</th>\n      <td>9459</td>\n      <td>2021-09-03 11:53:29</td>\n      <td>0</td>\n    </tr>\n    <tr>\n      <th>9336</th>\n      <td>9460</td>\n      <td>2021-08-03 20:38:56</td>\n      <td>0</td>\n    </tr>\n    <tr>\n      <th>9337</th>\n      <td>9461</td>\n      <td>2021-07-25 11:39:28</td>\n      <td>0</td>\n    </tr>\n    <tr>\n      <th>9338</th>\n      <td>9462</td>\n      <td>2021-08-19 21:15:08</td>\n      <td>0</td>\n    </tr>\n  </tbody>\n</table>\n<p>9339 rows × 3 columns</p>\n</div>"
     },
     "execution_count": 909,
     "metadata": {},
     "output_type": "execute_result"
    }
   ],
   "source": [
    "session_start = df_time.groupby('session_id').head(1)\n",
    "session_start.reset_index(drop=True, inplace=True)\n",
    "session_start"
   ],
   "metadata": {
    "collapsed": false,
    "pycharm": {
     "name": "#%%\n"
    }
   }
  },
  {
   "cell_type": "code",
   "execution_count": 910,
   "outputs": [
    {
     "data": {
      "text/plain": "      session_id           timestamp  purchase_id\n0            124 2021-02-13 05:47:03            1\n1            125 2021-10-27 08:06:00            1\n2            126 2021-02-18 20:51:33            1\n3            127 2021-04-27 23:26:13            1\n4            128 2021-01-20 20:08:47            1\n...          ...                 ...          ...\n9334        9458 2021-05-27 22:53:02            1\n9335        9459 2021-09-03 12:11:06            1\n9336        9460 2021-08-03 20:42:42            1\n9337        9461 2021-07-25 11:48:24            0\n9338        9462 2021-08-19 21:17:34            1\n\n[9339 rows x 3 columns]",
      "text/html": "<div>\n<style scoped>\n    .dataframe tbody tr th:only-of-type {\n        vertical-align: middle;\n    }\n\n    .dataframe tbody tr th {\n        vertical-align: top;\n    }\n\n    .dataframe thead th {\n        text-align: right;\n    }\n</style>\n<table border=\"1\" class=\"dataframe\">\n  <thead>\n    <tr style=\"text-align: right;\">\n      <th></th>\n      <th>session_id</th>\n      <th>timestamp</th>\n      <th>purchase_id</th>\n    </tr>\n  </thead>\n  <tbody>\n    <tr>\n      <th>0</th>\n      <td>124</td>\n      <td>2021-02-13 05:47:03</td>\n      <td>1</td>\n    </tr>\n    <tr>\n      <th>1</th>\n      <td>125</td>\n      <td>2021-10-27 08:06:00</td>\n      <td>1</td>\n    </tr>\n    <tr>\n      <th>2</th>\n      <td>126</td>\n      <td>2021-02-18 20:51:33</td>\n      <td>1</td>\n    </tr>\n    <tr>\n      <th>3</th>\n      <td>127</td>\n      <td>2021-04-27 23:26:13</td>\n      <td>1</td>\n    </tr>\n    <tr>\n      <th>4</th>\n      <td>128</td>\n      <td>2021-01-20 20:08:47</td>\n      <td>1</td>\n    </tr>\n    <tr>\n      <th>...</th>\n      <td>...</td>\n      <td>...</td>\n      <td>...</td>\n    </tr>\n    <tr>\n      <th>9334</th>\n      <td>9458</td>\n      <td>2021-05-27 22:53:02</td>\n      <td>1</td>\n    </tr>\n    <tr>\n      <th>9335</th>\n      <td>9459</td>\n      <td>2021-09-03 12:11:06</td>\n      <td>1</td>\n    </tr>\n    <tr>\n      <th>9336</th>\n      <td>9460</td>\n      <td>2021-08-03 20:42:42</td>\n      <td>1</td>\n    </tr>\n    <tr>\n      <th>9337</th>\n      <td>9461</td>\n      <td>2021-07-25 11:48:24</td>\n      <td>0</td>\n    </tr>\n    <tr>\n      <th>9338</th>\n      <td>9462</td>\n      <td>2021-08-19 21:17:34</td>\n      <td>1</td>\n    </tr>\n  </tbody>\n</table>\n<p>9339 rows × 3 columns</p>\n</div>"
     },
     "execution_count": 910,
     "metadata": {},
     "output_type": "execute_result"
    }
   ],
   "source": [
    "session_end = df_time.groupby('session_id').tail(1)\n",
    "session_end.reset_index(drop=True, inplace=True)\n",
    "session_end"
   ],
   "metadata": {
    "collapsed": false,
    "pycharm": {
     "name": "#%%\n"
    }
   }
  },
  {
   "cell_type": "code",
   "execution_count": 911,
   "outputs": [
    {
     "data": {
      "text/plain": "0      0 days 00:15:36\n1      0 days 00:10:42\n2      0 days 00:04:05\n3      0 days 00:00:14\n4      0 days 00:05:22\n             ...      \n9334   0 days 00:05:03\n9335   0 days 00:17:37\n9336   0 days 00:03:46\n9337   0 days 00:08:56\n9338   0 days 00:02:26\nName: timestamp, Length: 9339, dtype: timedelta64[ns]"
     },
     "execution_count": 911,
     "metadata": {},
     "output_type": "execute_result"
    }
   ],
   "source": [
    "session_time = session_end['timestamp'] - session_start['timestamp']\n",
    "session_time"
   ],
   "metadata": {
    "collapsed": false,
    "pycharm": {
     "name": "#%%\n"
    }
   }
  },
  {
   "cell_type": "code",
   "execution_count": 912,
   "outputs": [
    {
     "data": {
      "text/plain": "count                         9339\nmean     0 days 00:06:48.033515365\nstd      0 days 00:06:57.708777602\nmin                0 days 00:00:00\n25%                0 days 00:01:42\n50%                0 days 00:04:17\n75%                0 days 00:09:56\nmax                0 days 00:37:43\nName: timestamp, dtype: object"
     },
     "execution_count": 912,
     "metadata": {},
     "output_type": "execute_result"
    }
   ],
   "source": [
    "session_time.describe()"
   ],
   "metadata": {
    "collapsed": false,
    "pycharm": {
     "name": "#%%\n"
    }
   }
  },
  {
   "cell_type": "code",
   "execution_count": 913,
   "outputs": [
    {
     "data": {
      "text/plain": "Timedelta('0 days 00:06:48.033515365')"
     },
     "execution_count": 913,
     "metadata": {},
     "output_type": "execute_result"
    }
   ],
   "source": [
    "session_time.mean()"
   ],
   "metadata": {
    "collapsed": false,
    "pycharm": {
     "name": "#%%\n"
    }
   }
  },
  {
   "cell_type": "markdown",
   "source": [
    "Średni czas sesji wynosi 6 minut 48 sekund, ta informacja przyda sie nam do tworzenia modelu naiwnego"
   ],
   "metadata": {
    "collapsed": false,
    "pycharm": {
     "name": "#%% md\n"
    }
   }
  },
  {
   "cell_type": "code",
   "execution_count": 914,
   "outputs": [
    {
     "data": {
      "text/plain": "      session_id           timestamp  purchase_id\n0            124 2021-02-13 05:47:03            1\n1            125 2021-10-27 08:06:00            1\n2            126 2021-02-18 20:51:33            1\n3            127 2021-04-27 23:26:13            1\n4            128 2021-01-20 20:08:47            1\n...          ...                 ...          ...\n9332        9456 2021-09-06 10:40:35            1\n9334        9458 2021-05-27 22:53:02            1\n9335        9459 2021-09-03 12:11:06            1\n9336        9460 2021-08-03 20:42:42            1\n9338        9462 2021-08-19 21:17:34            1\n\n[5132 rows x 3 columns]",
      "text/html": "<div>\n<style scoped>\n    .dataframe tbody tr th:only-of-type {\n        vertical-align: middle;\n    }\n\n    .dataframe tbody tr th {\n        vertical-align: top;\n    }\n\n    .dataframe thead th {\n        text-align: right;\n    }\n</style>\n<table border=\"1\" class=\"dataframe\">\n  <thead>\n    <tr style=\"text-align: right;\">\n      <th></th>\n      <th>session_id</th>\n      <th>timestamp</th>\n      <th>purchase_id</th>\n    </tr>\n  </thead>\n  <tbody>\n    <tr>\n      <th>0</th>\n      <td>124</td>\n      <td>2021-02-13 05:47:03</td>\n      <td>1</td>\n    </tr>\n    <tr>\n      <th>1</th>\n      <td>125</td>\n      <td>2021-10-27 08:06:00</td>\n      <td>1</td>\n    </tr>\n    <tr>\n      <th>2</th>\n      <td>126</td>\n      <td>2021-02-18 20:51:33</td>\n      <td>1</td>\n    </tr>\n    <tr>\n      <th>3</th>\n      <td>127</td>\n      <td>2021-04-27 23:26:13</td>\n      <td>1</td>\n    </tr>\n    <tr>\n      <th>4</th>\n      <td>128</td>\n      <td>2021-01-20 20:08:47</td>\n      <td>1</td>\n    </tr>\n    <tr>\n      <th>...</th>\n      <td>...</td>\n      <td>...</td>\n      <td>...</td>\n    </tr>\n    <tr>\n      <th>9332</th>\n      <td>9456</td>\n      <td>2021-09-06 10:40:35</td>\n      <td>1</td>\n    </tr>\n    <tr>\n      <th>9334</th>\n      <td>9458</td>\n      <td>2021-05-27 22:53:02</td>\n      <td>1</td>\n    </tr>\n    <tr>\n      <th>9335</th>\n      <td>9459</td>\n      <td>2021-09-03 12:11:06</td>\n      <td>1</td>\n    </tr>\n    <tr>\n      <th>9336</th>\n      <td>9460</td>\n      <td>2021-08-03 20:42:42</td>\n      <td>1</td>\n    </tr>\n    <tr>\n      <th>9338</th>\n      <td>9462</td>\n      <td>2021-08-19 21:17:34</td>\n      <td>1</td>\n    </tr>\n  </tbody>\n</table>\n<p>5132 rows × 3 columns</p>\n</div>"
     },
     "execution_count": 914,
     "metadata": {},
     "output_type": "execute_result"
    }
   ],
   "source": [
    "session_end_purchase = session_end.loc[session_end['purchase_id']==1]\n",
    "session_end_purchase"
   ],
   "metadata": {
    "collapsed": false,
    "pycharm": {
     "name": "#%%\n"
    }
   }
  },
  {
   "cell_type": "code",
   "execution_count": 915,
   "outputs": [
    {
     "data": {
      "text/plain": "      session_id           timestamp  purchase_id\n9            133 2021-05-01 19:50:14            0\n10           134 2021-10-05 17:45:45            0\n11           135 2021-02-04 02:47:12            0\n15           139 2021-06-01 09:22:36            0\n16           140 2021-01-19 05:26:49            0\n...          ...                 ...          ...\n9317        9441 2021-09-28 16:42:39            0\n9318        9442 2021-10-20 18:28:58            0\n9325        9449 2021-09-21 12:17:31            0\n9333        9457 2021-06-05 04:31:08            0\n9337        9461 2021-07-25 11:48:24            0\n\n[4207 rows x 3 columns]",
      "text/html": "<div>\n<style scoped>\n    .dataframe tbody tr th:only-of-type {\n        vertical-align: middle;\n    }\n\n    .dataframe tbody tr th {\n        vertical-align: top;\n    }\n\n    .dataframe thead th {\n        text-align: right;\n    }\n</style>\n<table border=\"1\" class=\"dataframe\">\n  <thead>\n    <tr style=\"text-align: right;\">\n      <th></th>\n      <th>session_id</th>\n      <th>timestamp</th>\n      <th>purchase_id</th>\n    </tr>\n  </thead>\n  <tbody>\n    <tr>\n      <th>9</th>\n      <td>133</td>\n      <td>2021-05-01 19:50:14</td>\n      <td>0</td>\n    </tr>\n    <tr>\n      <th>10</th>\n      <td>134</td>\n      <td>2021-10-05 17:45:45</td>\n      <td>0</td>\n    </tr>\n    <tr>\n      <th>11</th>\n      <td>135</td>\n      <td>2021-02-04 02:47:12</td>\n      <td>0</td>\n    </tr>\n    <tr>\n      <th>15</th>\n      <td>139</td>\n      <td>2021-06-01 09:22:36</td>\n      <td>0</td>\n    </tr>\n    <tr>\n      <th>16</th>\n      <td>140</td>\n      <td>2021-01-19 05:26:49</td>\n      <td>0</td>\n    </tr>\n    <tr>\n      <th>...</th>\n      <td>...</td>\n      <td>...</td>\n      <td>...</td>\n    </tr>\n    <tr>\n      <th>9317</th>\n      <td>9441</td>\n      <td>2021-09-28 16:42:39</td>\n      <td>0</td>\n    </tr>\n    <tr>\n      <th>9318</th>\n      <td>9442</td>\n      <td>2021-10-20 18:28:58</td>\n      <td>0</td>\n    </tr>\n    <tr>\n      <th>9325</th>\n      <td>9449</td>\n      <td>2021-09-21 12:17:31</td>\n      <td>0</td>\n    </tr>\n    <tr>\n      <th>9333</th>\n      <td>9457</td>\n      <td>2021-06-05 04:31:08</td>\n      <td>0</td>\n    </tr>\n    <tr>\n      <th>9337</th>\n      <td>9461</td>\n      <td>2021-07-25 11:48:24</td>\n      <td>0</td>\n    </tr>\n  </tbody>\n</table>\n<p>4207 rows × 3 columns</p>\n</div>"
     },
     "execution_count": 915,
     "metadata": {},
     "output_type": "execute_result"
    }
   ],
   "source": [
    "session_end_no_purchase = session_end.loc[session_end['purchase_id']==0]\n",
    "session_end_no_purchase"
   ],
   "metadata": {
    "collapsed": false,
    "pycharm": {
     "name": "#%%\n"
    }
   }
  },
  {
   "cell_type": "markdown",
   "source": [
    "# Wyznaczmy współczynnik $alpha$ na podstawie dostępnych danych"
   ],
   "metadata": {
    "collapsed": false,
    "pycharm": {
     "name": "#%% md\n"
    }
   }
  },
  {
   "cell_type": "markdown",
   "source": [
    "Liczba wszystkich sesji zakończonych zakupem"
   ],
   "metadata": {
    "collapsed": false,
    "pycharm": {
     "name": "#%% md\n"
    }
   }
  },
  {
   "cell_type": "code",
   "execution_count": 916,
   "outputs": [
    {
     "data": {
      "text/plain": "5132"
     },
     "execution_count": 916,
     "metadata": {},
     "output_type": "execute_result"
    }
   ],
   "source": [
    "all_purchases = session_end_purchase.shape[0]\n",
    "all_purchases"
   ],
   "metadata": {
    "collapsed": false,
    "pycharm": {
     "name": "#%%\n"
    }
   }
  },
  {
   "cell_type": "markdown",
   "source": [
    "Liczba sesji zakończonych zakupem przewidzianych przez model naiwny, czyli takich dla których czas sesji jest większy od czasu średniego"
   ],
   "metadata": {
    "collapsed": false,
    "pycharm": {
     "name": "#%% md\n"
    }
   }
  },
  {
   "cell_type": "code",
   "execution_count": 917,
   "outputs": [
    {
     "data": {
      "text/plain": "1539"
     },
     "execution_count": 917,
     "metadata": {},
     "output_type": "execute_result"
    }
   ],
   "source": [
    "session_time_purchase = session_end_purchase.merge(session_start[['session_id','timestamp']], on='session_id', how='left')\n",
    "session_time_purchase = session_time_purchase['timestamp_x'] - session_time_purchase['timestamp_y']\n",
    "session_time_purchase = session_time_purchase.loc[session_time_purchase > session_time.mean()]\n",
    "naive_purchase_preds = session_time_purchase.shape[0]\n",
    "naive_purchase_preds"
   ],
   "metadata": {
    "collapsed": false,
    "pycharm": {
     "name": "#%%\n"
    }
   }
  },
  {
   "cell_type": "markdown",
   "source": [
    "### Wartość współczynnika alpha dla posiadanych danych"
   ],
   "metadata": {
    "collapsed": false,
    "pycharm": {
     "name": "#%% md\n"
    }
   }
  },
  {
   "cell_type": "code",
   "execution_count": 918,
   "outputs": [
    {
     "data": {
      "text/plain": "0.29988308651597817"
     },
     "execution_count": 918,
     "metadata": {},
     "output_type": "execute_result"
    }
   ],
   "source": [
    "alpha = naive_purchase_preds/all_purchases\n",
    "alpha"
   ],
   "metadata": {
    "collapsed": false,
    "pycharm": {
     "name": "#%%\n"
    }
   }
  },
  {
   "cell_type": "code",
   "execution_count": 919,
   "outputs": [
    {
     "data": {
      "text/plain": "0      0 days 00:15:36\n1      0 days 00:10:42\n2      0 days 00:04:05\n3      0 days 00:00:14\n4      0 days 00:05:22\n             ...      \n5127   0 days 00:03:23\n5128   0 days 00:05:03\n5129   0 days 00:17:37\n5130   0 days 00:03:46\n5131   0 days 00:02:26\nLength: 5132, dtype: timedelta64[ns]"
     },
     "execution_count": 919,
     "metadata": {},
     "output_type": "execute_result"
    }
   ],
   "source": [
    "session_time_purchase = session_end_purchase.merge(session_start[['session_id','timestamp']], on='session_id', how='left')\n",
    "session_time_purchase = session_time_purchase['timestamp_x'] - session_time_purchase['timestamp_y']\n",
    "session_time_purchase"
   ],
   "metadata": {
    "collapsed": false,
    "pycharm": {
     "name": "#%%\n"
    }
   }
  },
  {
   "cell_type": "code",
   "execution_count": 920,
   "outputs": [
    {
     "data": {
      "text/plain": "Timedelta('0 days 00:06:24.740646921')"
     },
     "execution_count": 920,
     "metadata": {},
     "output_type": "execute_result"
    }
   ],
   "source": [
    "session_time_purchase.mean()"
   ],
   "metadata": {
    "collapsed": false,
    "pycharm": {
     "name": "#%%\n"
    }
   }
  },
  {
   "cell_type": "code",
   "execution_count": 921,
   "outputs": [
    {
     "data": {
      "text/plain": "0      0 days 00:07:27\n1      0 days 00:20:39\n2      0 days 00:05:52\n3      0 days 00:08:28\n4      0 days 00:22:40\n             ...      \n4202   0 days 00:04:22\n4203   0 days 00:26:25\n4204   0 days 00:04:20\n4205   0 days 00:03:44\n4206   0 days 00:08:56\nLength: 4207, dtype: timedelta64[ns]"
     },
     "execution_count": 921,
     "metadata": {},
     "output_type": "execute_result"
    }
   ],
   "source": [
    "session_time_no_purchase = session_end_no_purchase.merge(session_start[['session_id','timestamp']], on='session_id', how='left')\n",
    "session_time_no_purchase = session_time_no_purchase['timestamp_x'] - session_time_no_purchase['timestamp_y']\n",
    "session_time_no_purchase"
   ],
   "metadata": {
    "collapsed": false,
    "pycharm": {
     "name": "#%%\n"
    }
   }
  },
  {
   "cell_type": "code",
   "execution_count": 922,
   "outputs": [
    {
     "data": {
      "text/plain": "Timedelta('0 days 00:07:16.447825053')"
     },
     "execution_count": 922,
     "metadata": {},
     "output_type": "execute_result"
    }
   ],
   "source": [
    "session_time_no_purchase.mean()"
   ],
   "metadata": {
    "collapsed": false,
    "pycharm": {
     "name": "#%%\n"
    }
   }
  },
  {
   "cell_type": "code",
   "execution_count": 923,
   "outputs": [
    {
     "data": {
      "text/plain": "Timedelta('0 days 00:00:51.707178132')"
     },
     "execution_count": 923,
     "metadata": {},
     "output_type": "execute_result"
    }
   ],
   "source": [
    "session_time_no_purchase.mean() - session_time_purchase.mean()"
   ],
   "metadata": {
    "collapsed": false,
    "pycharm": {
     "name": "#%%\n"
    }
   }
  },
  {
   "cell_type": "markdown",
   "source": [
    "Analizując czas spędzany w sesji przez klientów i wynik tej sesji (zakup lub jego brak) zauważamy, że wbrew naszej pierwotnej intuicji sesja zakończona zakupem trwa średnio o 51 sekund krócej niż sesja, która zakupem się nie zakończyła. Możemy to argumentować tym, iż klient który ma zamiar coś kupić ma bardziej sprecyzowane wymagania i spędza na stronie mniej czasu."
   ],
   "metadata": {
    "collapsed": false,
    "pycharm": {
     "name": "#%% md\n"
    }
   }
  },
  {
   "cell_type": "markdown",
   "source": [
    "# Ogólne podsumowanie\n",
    "1. Dane są kompletne - brak nulli w wierszach oraz poprawne - np. brak ujemnej ceny.\n",
    "2. Na podstawie danych jesteśmy w stanie oszacować współczynnik alfa, który wynosi około 0,3.\n",
    "3. Współczynnik informacji wzajemnej i korelacji punktowo-dwuseryjnej wskazują dosyć małe wartości. Natomiast kombinacja wszystkich atrybutów, pomimo małych wartości współczynnika, może dawać całkiem dobre rezultaty.\n",
    "4. Uważamy, że na podstawie danych jesteśmy w stanie stworzyć model, który spełni kryterium biznesowe jak i analityczne. Nie będzie to model bezbłędny, ale może on istotnie usprawnić pracę konsultantów i zmaksymalizować zysk jaki generują."
   ],
   "metadata": {
    "collapsed": false,
    "pycharm": {
     "name": "#%% md\n"
    }
   }
  }
 ],
 "metadata": {
  "kernelspec": {
   "display_name": "Python 3",
   "language": "python",
   "name": "python3"
  },
  "language_info": {
   "codemirror_mode": {
    "name": "ipython",
    "version": 2
   },
   "file_extension": ".py",
   "mimetype": "text/x-python",
   "name": "python",
   "nbconvert_exporter": "python",
   "pygments_lexer": "ipython2",
   "version": "2.7.6"
  }
 },
 "nbformat": 4,
 "nbformat_minor": 0
}